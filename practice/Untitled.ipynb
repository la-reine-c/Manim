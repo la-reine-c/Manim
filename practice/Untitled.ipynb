{
 "cells": [
  {
   "cell_type": "code",
   "execution_count": 2,
   "id": "2c119dd4-bdd2-4d12-8948-e004140306b3",
   "metadata": {},
   "outputs": [],
   "source": [
    "from manim import *\n",
    "from math import *"
   ]
  },
  {
   "cell_type": "code",
   "execution_count": 25,
   "id": "c6fdb0fe-9912-4488-a6d3-9750f9fb4ac3",
   "metadata": {},
   "outputs": [
    {
     "data": {
      "text/html": [
       "<pre style=\"white-space:pre;overflow-x:auto;line-height:normal;font-family:Menlo,'DejaVu Sans Mono',consolas,'Courier New',monospace\">Manim Community <span style=\"color: #008000; text-decoration-color: #008000\">v0.18.1</span>\n",
       "\n",
       "</pre>\n"
      ],
      "text/plain": [
       "Manim Community \u001b[32mv0.\u001b[0m\u001b[32m18.1\u001b[0m\n",
       "\n"
      ]
     },
     "metadata": {},
     "output_type": "display_data"
    },
    {
     "name": "stderr",
     "output_type": "stream",
     "text": [
      "                                                                  "
     ]
    },
    {
     "ename": "TypeError",
     "evalue": "unsupported operand type(s) for -: 'int' and 'tuple'",
     "output_type": "error",
     "traceback": [
      "\u001b[0;31m---------------------------------------------------------------------------\u001b[0m",
      "\u001b[0;31mTypeError\u001b[0m                                 Traceback (most recent call last)",
      "Cell \u001b[0;32mIn[25], line 1\u001b[0m\n\u001b[0;32m----> 1\u001b[0m \u001b[43mget_ipython\u001b[49m\u001b[43m(\u001b[49m\u001b[43m)\u001b[49m\u001b[38;5;241;43m.\u001b[39;49m\u001b[43mrun_cell_magic\u001b[49m\u001b[43m(\u001b[49m\u001b[38;5;124;43m'\u001b[39;49m\u001b[38;5;124;43mmanim\u001b[39;49m\u001b[38;5;124;43m'\u001b[39;49m\u001b[43m,\u001b[49m\u001b[43m \u001b[49m\u001b[38;5;124;43m'\u001b[39;49m\u001b[38;5;124;43m-qm -v WARNING CirclePrac\u001b[39;49m\u001b[38;5;124;43m'\u001b[39;49m\u001b[43m,\u001b[49m\u001b[43m \u001b[49m\u001b[38;5;124;43m\"\u001b[39;49m\u001b[38;5;130;43;01m\\n\u001b[39;49;00m\u001b[38;5;124;43mclass MovePointAroundCircle(Animation):\u001b[39;49m\u001b[38;5;130;43;01m\\n\u001b[39;49;00m\u001b[38;5;124;43m    def __init__(self, dot: Dot, origin: [float], rad: float, deg: float, deg_n: float, **kwargs) -> None:\u001b[39;49m\u001b[38;5;130;43;01m\\n\u001b[39;49;00m\u001b[38;5;124;43m        self.rate_func = kwargs.pop(\u001b[39;49m\u001b[38;5;124;43m'\u001b[39;49m\u001b[38;5;124;43mrate_func\u001b[39;49m\u001b[38;5;124;43m'\u001b[39;49m\u001b[38;5;124;43m, smooth)\u001b[39;49m\u001b[38;5;130;43;01m\\n\u001b[39;49;00m\u001b[38;5;124;43m        super().__init__(dot, **kwargs)\u001b[39;49m\u001b[38;5;130;43;01m\\n\u001b[39;49;00m\u001b[38;5;124;43m        self.dot = dot\u001b[39;49m\u001b[38;5;130;43;01m\\n\u001b[39;49;00m\u001b[38;5;124;43m        self.origin = origin\u001b[39;49m\u001b[38;5;130;43;01m\\n\u001b[39;49;00m\u001b[38;5;124;43m        self.rad = rad\u001b[39;49m\u001b[38;5;130;43;01m\\n\u001b[39;49;00m\u001b[38;5;124;43m        self.deg = deg,\u001b[39;49m\u001b[38;5;130;43;01m\\n\u001b[39;49;00m\u001b[38;5;124;43m        self.deg_n = deg_n\u001b[39;49m\u001b[38;5;130;43;01m\\n\u001b[39;49;00m\u001b[38;5;124;43m        \u001b[39;49m\u001b[38;5;130;43;01m\\n\u001b[39;49;00m\u001b[38;5;124;43m    def get_coord_from_deg(self) -> [float]:\u001b[39;49m\u001b[38;5;130;43;01m\\n\u001b[39;49;00m\u001b[38;5;124;43m            if deg < 90:\u001b[39;49m\u001b[38;5;130;43;01m\\n\u001b[39;49;00m\u001b[38;5;124;43m                x = (self.rad * sin(radians(self.deg))) + self.origin[0]\u001b[39;49m\u001b[38;5;130;43;01m\\n\u001b[39;49;00m\u001b[38;5;124;43m                y = (self.rad * cos(radians(self.deg))) + self.origin[0]\u001b[39;49m\u001b[38;5;130;43;01m\\n\u001b[39;49;00m\u001b[38;5;124;43m                return [x, y, 0]\u001b[39;49m\u001b[38;5;130;43;01m\\n\u001b[39;49;00m\u001b[38;5;124;43m            if deg < 180:\u001b[39;49m\u001b[38;5;130;43;01m\\n\u001b[39;49;00m\u001b[38;5;124;43m                x = (self.rad * cos(radians(self.deg - 90))) + self.origin[0]\u001b[39;49m\u001b[38;5;130;43;01m\\n\u001b[39;49;00m\u001b[38;5;124;43m                y = -1 * (self.rad * sin(radians(self.deg - 90))) + self.origin[1]\u001b[39;49m\u001b[38;5;130;43;01m\\n\u001b[39;49;00m\u001b[38;5;124;43m                return [x, y, 0]\u001b[39;49m\u001b[38;5;130;43;01m\\n\u001b[39;49;00m\u001b[38;5;124;43m            if deg < 270:\u001b[39;49m\u001b[38;5;130;43;01m\\n\u001b[39;49;00m\u001b[38;5;124;43m                x = -1 * (self.rad * sin(radians(self.deg - 180))) + self.origin[0]\u001b[39;49m\u001b[38;5;130;43;01m\\n\u001b[39;49;00m\u001b[38;5;124;43m                y = -1 * (self.rad * cos(radians(self.deg - 180))) + self.origin[1]\u001b[39;49m\u001b[38;5;130;43;01m\\n\u001b[39;49;00m\u001b[38;5;124;43m                return [x, y, 0]\u001b[39;49m\u001b[38;5;130;43;01m\\n\u001b[39;49;00m\u001b[38;5;124;43m            x = -1 * (self.rad * cos(radians(self.deg - 270))) + self.origin[0]\u001b[39;49m\u001b[38;5;130;43;01m\\n\u001b[39;49;00m\u001b[38;5;124;43m            y = (self.rad * sin(radians(self.deg - 270))) + self.origin[1]\u001b[39;49m\u001b[38;5;130;43;01m\\n\u001b[39;49;00m\u001b[38;5;124;43m            return [x, y, 0]\u001b[39;49m\u001b[38;5;130;43;01m\\n\u001b[39;49;00m\u001b[38;5;124;43m        \u001b[39;49m\u001b[38;5;130;43;01m\\n\u001b[39;49;00m\u001b[38;5;124;43m    def interpolate_mobject(self, value):\u001b[39;49m\u001b[38;5;130;43;01m\\n\u001b[39;49;00m\u001b[38;5;124;43m        \u001b[39;49m\u001b[38;5;130;43;01m\\n\u001b[39;49;00m\u001b[38;5;124;43m        rf_deg = self.deg + ((self.deg_n-self.deg)*self.rate_func(alpha))\u001b[39;49m\u001b[38;5;130;43;01m\\n\u001b[39;49;00m\u001b[38;5;124;43m        self.mobject.move_to(self.get_coord_from_deg(rf_deg))\u001b[39;49m\u001b[38;5;130;43;01m\\n\u001b[39;49;00m\u001b[38;5;124;43m                    \u001b[39;49m\u001b[38;5;130;43;01m\\n\u001b[39;49;00m\u001b[38;5;124;43m    \u001b[39;49m\u001b[38;5;130;43;01m\\n\u001b[39;49;00m\u001b[38;5;124;43mclass CirclePrac(Scene):\u001b[39;49m\u001b[38;5;130;43;01m\\n\u001b[39;49;00m\u001b[38;5;130;43;01m\\n\u001b[39;49;00m\u001b[38;5;124;43m    def construct(self):\u001b[39;49m\u001b[38;5;130;43;01m\\n\u001b[39;49;00m\u001b[38;5;124;43m        def get_coord_from_deg(deg, rad, org) -> [float]:\u001b[39;49m\u001b[38;5;130;43;01m\\n\u001b[39;49;00m\u001b[38;5;124;43m            if deg < 90:\u001b[39;49m\u001b[38;5;130;43;01m\\n\u001b[39;49;00m\u001b[38;5;124;43m                x = (rad * sin(radians(deg))) + org[0]\u001b[39;49m\u001b[38;5;130;43;01m\\n\u001b[39;49;00m\u001b[38;5;124;43m                y = (rad * cos(radians(deg))) + org[0]\u001b[39;49m\u001b[38;5;130;43;01m\\n\u001b[39;49;00m\u001b[38;5;124;43m                return [x, y, 0]\u001b[39;49m\u001b[38;5;130;43;01m\\n\u001b[39;49;00m\u001b[38;5;124;43m            if deg < 180:\u001b[39;49m\u001b[38;5;130;43;01m\\n\u001b[39;49;00m\u001b[38;5;124;43m                x = (rad * cos(radians(deg - 90))) + org[0]\u001b[39;49m\u001b[38;5;130;43;01m\\n\u001b[39;49;00m\u001b[38;5;124;43m                y = -1 * (rad * sin(radians(deg - 90))) + org[1]\u001b[39;49m\u001b[38;5;130;43;01m\\n\u001b[39;49;00m\u001b[38;5;124;43m                return [x, y, 0]\u001b[39;49m\u001b[38;5;130;43;01m\\n\u001b[39;49;00m\u001b[38;5;124;43m            if deg < 270:\u001b[39;49m\u001b[38;5;130;43;01m\\n\u001b[39;49;00m\u001b[38;5;124;43m                x = -1 * (rad * sin(radians(deg - 180))) + org[0]\u001b[39;49m\u001b[38;5;130;43;01m\\n\u001b[39;49;00m\u001b[38;5;124;43m                y = -1 * (rad * cos(radians(deg - 180))) + org[1]\u001b[39;49m\u001b[38;5;130;43;01m\\n\u001b[39;49;00m\u001b[38;5;124;43m                return [x, y, 0]\u001b[39;49m\u001b[38;5;130;43;01m\\n\u001b[39;49;00m\u001b[38;5;124;43m            x = -1 * (rad * cos(radians(deg - 270))) + org[0]\u001b[39;49m\u001b[38;5;130;43;01m\\n\u001b[39;49;00m\u001b[38;5;124;43m            y = (rad * sin(radians(deg - 270))) + org[1]\u001b[39;49m\u001b[38;5;130;43;01m\\n\u001b[39;49;00m\u001b[38;5;124;43m            return [x, y, 0]\u001b[39;49m\u001b[38;5;130;43;01m\\n\u001b[39;49;00m\u001b[38;5;130;43;01m\\n\u001b[39;49;00m\u001b[38;5;124;43m        \u001b[39;49m\u001b[38;5;130;43;01m\\n\u001b[39;49;00m\u001b[38;5;124;43m        plane = NumberPlane()\u001b[39;49m\u001b[38;5;130;43;01m\\n\u001b[39;49;00m\u001b[38;5;124;43m        circle = Circle(3, color=RED)\u001b[39;49m\u001b[38;5;130;43;01m\\n\u001b[39;49;00m\u001b[38;5;124;43m        point = Dot()\u001b[39;49m\u001b[38;5;130;43;01m\\n\u001b[39;49;00m\u001b[38;5;124;43m        self.add(plane)\u001b[39;49m\u001b[38;5;130;43;01m\\n\u001b[39;49;00m\u001b[38;5;124;43m        self.play(Create(circle))\u001b[39;49m\u001b[38;5;130;43;01m\\n\u001b[39;49;00m\u001b[38;5;124;43m        point.move_to(get_coord_from_deg(0, 3, [0, 0, 0]))\u001b[39;49m\u001b[38;5;130;43;01m\\n\u001b[39;49;00m\u001b[38;5;124;43m        self.add(point)\u001b[39;49m\u001b[38;5;130;43;01m\\n\u001b[39;49;00m\u001b[38;5;124;43m        self.wait()\u001b[39;49m\u001b[38;5;130;43;01m\\n\u001b[39;49;00m\u001b[38;5;124;43m        self.play(MovePointAroundCircle(point, [0, 0], 3, 0, 450))\u001b[39;49m\u001b[38;5;130;43;01m\\n\u001b[39;49;00m\u001b[38;5;124;43m\"\u001b[39;49m\u001b[43m)\u001b[49m\n",
      "File \u001b[0;32m/usr/local/python/3.12.1/lib/python3.12/site-packages/IPython/core/interactiveshell.py:2517\u001b[0m, in \u001b[0;36mInteractiveShell.run_cell_magic\u001b[0;34m(self, magic_name, line, cell)\u001b[0m\n\u001b[1;32m   2515\u001b[0m \u001b[38;5;28;01mwith\u001b[39;00m \u001b[38;5;28mself\u001b[39m\u001b[38;5;241m.\u001b[39mbuiltin_trap:\n\u001b[1;32m   2516\u001b[0m     args \u001b[38;5;241m=\u001b[39m (magic_arg_s, cell)\n\u001b[0;32m-> 2517\u001b[0m     result \u001b[38;5;241m=\u001b[39m \u001b[43mfn\u001b[49m\u001b[43m(\u001b[49m\u001b[38;5;241;43m*\u001b[39;49m\u001b[43margs\u001b[49m\u001b[43m,\u001b[49m\u001b[43m \u001b[49m\u001b[38;5;241;43m*\u001b[39;49m\u001b[38;5;241;43m*\u001b[39;49m\u001b[43mkwargs\u001b[49m\u001b[43m)\u001b[49m\n\u001b[1;32m   2519\u001b[0m \u001b[38;5;66;03m# The code below prevents the output from being displayed\u001b[39;00m\n\u001b[1;32m   2520\u001b[0m \u001b[38;5;66;03m# when using magics with decorator @output_can_be_silenced\u001b[39;00m\n\u001b[1;32m   2521\u001b[0m \u001b[38;5;66;03m# when the last Python token in the expression is a ';'.\u001b[39;00m\n\u001b[1;32m   2522\u001b[0m \u001b[38;5;28;01mif\u001b[39;00m \u001b[38;5;28mgetattr\u001b[39m(fn, magic\u001b[38;5;241m.\u001b[39mMAGIC_OUTPUT_CAN_BE_SILENCED, \u001b[38;5;28;01mFalse\u001b[39;00m):\n",
      "File \u001b[0;32m/usr/local/python/3.12.1/lib/python3.12/site-packages/manim/utils/ipython_magic.py:143\u001b[0m, in \u001b[0;36mManimMagic.manim\u001b[0;34m(self, line, cell, local_ns)\u001b[0m\n\u001b[1;32m    141\u001b[0m     SceneClass \u001b[38;5;241m=\u001b[39m local_ns[config[\u001b[38;5;124m\"\u001b[39m\u001b[38;5;124mscene_names\u001b[39m\u001b[38;5;124m\"\u001b[39m][\u001b[38;5;241m0\u001b[39m]]\n\u001b[1;32m    142\u001b[0m     scene \u001b[38;5;241m=\u001b[39m SceneClass(renderer\u001b[38;5;241m=\u001b[39mrenderer)\n\u001b[0;32m--> 143\u001b[0m     \u001b[43mscene\u001b[49m\u001b[38;5;241;43m.\u001b[39;49m\u001b[43mrender\u001b[49m\u001b[43m(\u001b[49m\u001b[43m)\u001b[49m\n\u001b[1;32m    144\u001b[0m \u001b[38;5;28;01mfinally\u001b[39;00m:\n\u001b[1;32m    145\u001b[0m     \u001b[38;5;66;03m# Shader cache becomes invalid as the context is destroyed\u001b[39;00m\n\u001b[1;32m    146\u001b[0m     shader_program_cache\u001b[38;5;241m.\u001b[39mclear()\n",
      "File \u001b[0;32m/usr/local/python/3.12.1/lib/python3.12/site-packages/manim/scene/scene.py:229\u001b[0m, in \u001b[0;36mScene.render\u001b[0;34m(self, preview)\u001b[0m\n\u001b[1;32m    227\u001b[0m \u001b[38;5;28mself\u001b[39m\u001b[38;5;241m.\u001b[39msetup()\n\u001b[1;32m    228\u001b[0m \u001b[38;5;28;01mtry\u001b[39;00m:\n\u001b[0;32m--> 229\u001b[0m     \u001b[38;5;28;43mself\u001b[39;49m\u001b[38;5;241;43m.\u001b[39;49m\u001b[43mconstruct\u001b[49m\u001b[43m(\u001b[49m\u001b[43m)\u001b[49m\n\u001b[1;32m    230\u001b[0m \u001b[38;5;28;01mexcept\u001b[39;00m EndSceneEarlyException:\n\u001b[1;32m    231\u001b[0m     \u001b[38;5;28;01mpass\u001b[39;00m\n",
      "File \u001b[0;32m<string>:64\u001b[0m, in \u001b[0;36mconstruct\u001b[0;34m(self)\u001b[0m\n",
      "File \u001b[0;32m/usr/local/python/3.12.1/lib/python3.12/site-packages/manim/scene/scene.py:1092\u001b[0m, in \u001b[0;36mScene.play\u001b[0;34m(self, subcaption, subcaption_duration, subcaption_offset, *args, **kwargs)\u001b[0m\n\u001b[1;32m   1089\u001b[0m     \u001b[38;5;28;01mreturn\u001b[39;00m\n\u001b[1;32m   1091\u001b[0m start_time \u001b[38;5;241m=\u001b[39m \u001b[38;5;28mself\u001b[39m\u001b[38;5;241m.\u001b[39mrenderer\u001b[38;5;241m.\u001b[39mtime\n\u001b[0;32m-> 1092\u001b[0m \u001b[38;5;28;43mself\u001b[39;49m\u001b[38;5;241;43m.\u001b[39;49m\u001b[43mrenderer\u001b[49m\u001b[38;5;241;43m.\u001b[39;49m\u001b[43mplay\u001b[49m\u001b[43m(\u001b[49m\u001b[38;5;28;43mself\u001b[39;49m\u001b[43m,\u001b[49m\u001b[43m \u001b[49m\u001b[38;5;241;43m*\u001b[39;49m\u001b[43margs\u001b[49m\u001b[43m,\u001b[49m\u001b[43m \u001b[49m\u001b[38;5;241;43m*\u001b[39;49m\u001b[38;5;241;43m*\u001b[39;49m\u001b[43mkwargs\u001b[49m\u001b[43m)\u001b[49m\n\u001b[1;32m   1093\u001b[0m run_time \u001b[38;5;241m=\u001b[39m \u001b[38;5;28mself\u001b[39m\u001b[38;5;241m.\u001b[39mrenderer\u001b[38;5;241m.\u001b[39mtime \u001b[38;5;241m-\u001b[39m start_time\n\u001b[1;32m   1094\u001b[0m \u001b[38;5;28;01mif\u001b[39;00m subcaption:\n",
      "File \u001b[0;32m/usr/local/python/3.12.1/lib/python3.12/site-packages/manim/renderer/cairo_renderer.py:103\u001b[0m, in \u001b[0;36mCairoRenderer.play\u001b[0;34m(self, scene, *args, **kwargs)\u001b[0m\n\u001b[1;32m     97\u001b[0m logger\u001b[38;5;241m.\u001b[39mdebug(\n\u001b[1;32m     98\u001b[0m     \u001b[38;5;124m\"\u001b[39m\u001b[38;5;124mList of the first few animation hashes of the scene: \u001b[39m\u001b[38;5;132;01m%(h)s\u001b[39;00m\u001b[38;5;124m\"\u001b[39m,\n\u001b[1;32m     99\u001b[0m     {\u001b[38;5;124m\"\u001b[39m\u001b[38;5;124mh\u001b[39m\u001b[38;5;124m\"\u001b[39m: \u001b[38;5;28mstr\u001b[39m(\u001b[38;5;28mself\u001b[39m\u001b[38;5;241m.\u001b[39manimations_hashes[:\u001b[38;5;241m5\u001b[39m])},\n\u001b[1;32m    100\u001b[0m )\n\u001b[1;32m    102\u001b[0m \u001b[38;5;28mself\u001b[39m\u001b[38;5;241m.\u001b[39mfile_writer\u001b[38;5;241m.\u001b[39mbegin_animation(\u001b[38;5;129;01mnot\u001b[39;00m \u001b[38;5;28mself\u001b[39m\u001b[38;5;241m.\u001b[39mskip_animations)\n\u001b[0;32m--> 103\u001b[0m \u001b[43mscene\u001b[49m\u001b[38;5;241;43m.\u001b[39;49m\u001b[43mbegin_animations\u001b[49m\u001b[43m(\u001b[49m\u001b[43m)\u001b[49m\n\u001b[1;32m    105\u001b[0m \u001b[38;5;66;03m# Save a static image, to avoid rendering non moving objects.\u001b[39;00m\n\u001b[1;32m    106\u001b[0m \u001b[38;5;28mself\u001b[39m\u001b[38;5;241m.\u001b[39msave_static_frame_data(scene, scene\u001b[38;5;241m.\u001b[39mstatic_mobjects)\n",
      "File \u001b[0;32m/usr/local/python/3.12.1/lib/python3.12/site-packages/manim/scene/scene.py:1224\u001b[0m, in \u001b[0;36mScene.begin_animations\u001b[0;34m(self)\u001b[0m\n\u001b[1;32m   1222\u001b[0m \u001b[38;5;28;01mfor\u001b[39;00m animation \u001b[38;5;129;01min\u001b[39;00m \u001b[38;5;28mself\u001b[39m\u001b[38;5;241m.\u001b[39manimations:\n\u001b[1;32m   1223\u001b[0m     animation\u001b[38;5;241m.\u001b[39m_setup_scene(\u001b[38;5;28mself\u001b[39m)\n\u001b[0;32m-> 1224\u001b[0m     \u001b[43manimation\u001b[49m\u001b[38;5;241;43m.\u001b[39;49m\u001b[43mbegin\u001b[49m\u001b[43m(\u001b[49m\u001b[43m)\u001b[49m\n\u001b[1;32m   1226\u001b[0m \u001b[38;5;28;01mif\u001b[39;00m config\u001b[38;5;241m.\u001b[39mrenderer \u001b[38;5;241m==\u001b[39m RendererType\u001b[38;5;241m.\u001b[39mCAIRO:\n\u001b[1;32m   1227\u001b[0m     \u001b[38;5;66;03m# Paint all non-moving objects onto the screen, so they don't\u001b[39;00m\n\u001b[1;32m   1228\u001b[0m     \u001b[38;5;66;03m# have to be rendered every frame\u001b[39;00m\n\u001b[1;32m   1229\u001b[0m     (\n\u001b[1;32m   1230\u001b[0m         \u001b[38;5;28mself\u001b[39m\u001b[38;5;241m.\u001b[39mmoving_mobjects,\n\u001b[1;32m   1231\u001b[0m         \u001b[38;5;28mself\u001b[39m\u001b[38;5;241m.\u001b[39mstatic_mobjects,\n\u001b[1;32m   1232\u001b[0m     ) \u001b[38;5;241m=\u001b[39m \u001b[38;5;28mself\u001b[39m\u001b[38;5;241m.\u001b[39mget_moving_and_static_mobjects(\u001b[38;5;28mself\u001b[39m\u001b[38;5;241m.\u001b[39manimations)\n",
      "File \u001b[0;32m/usr/local/python/3.12.1/lib/python3.12/site-packages/manim/animation/animation.py:209\u001b[0m, in \u001b[0;36mAnimation.begin\u001b[0;34m(self)\u001b[0m\n\u001b[1;32m    201\u001b[0m \u001b[38;5;28;01mif\u001b[39;00m \u001b[38;5;28mself\u001b[39m\u001b[38;5;241m.\u001b[39msuspend_mobject_updating:\n\u001b[1;32m    202\u001b[0m     \u001b[38;5;66;03m# All calls to self.mobject's internal updaters\u001b[39;00m\n\u001b[1;32m    203\u001b[0m     \u001b[38;5;66;03m# during the animation, either from this Animation\u001b[39;00m\n\u001b[0;32m   (...)\u001b[0m\n\u001b[1;32m    206\u001b[0m     \u001b[38;5;66;03m# the internal updaters of self.starting_mobject,\u001b[39;00m\n\u001b[1;32m    207\u001b[0m     \u001b[38;5;66;03m# or any others among self.get_all_mobjects()\u001b[39;00m\n\u001b[1;32m    208\u001b[0m     \u001b[38;5;28mself\u001b[39m\u001b[38;5;241m.\u001b[39mmobject\u001b[38;5;241m.\u001b[39msuspend_updating()\n\u001b[0;32m--> 209\u001b[0m \u001b[38;5;28;43mself\u001b[39;49m\u001b[38;5;241;43m.\u001b[39;49m\u001b[43minterpolate\u001b[49m\u001b[43m(\u001b[49m\u001b[38;5;241;43m0\u001b[39;49m\u001b[43m)\u001b[49m\n",
      "File \u001b[0;32m/usr/local/python/3.12.1/lib/python3.12/site-packages/manim/animation/animation.py:329\u001b[0m, in \u001b[0;36mAnimation.interpolate\u001b[0;34m(self, alpha)\u001b[0m\n\u001b[1;32m    318\u001b[0m \u001b[38;5;28;01mdef\u001b[39;00m \u001b[38;5;21minterpolate\u001b[39m(\u001b[38;5;28mself\u001b[39m, alpha: \u001b[38;5;28mfloat\u001b[39m) \u001b[38;5;241m-\u001b[39m\u001b[38;5;241m>\u001b[39m \u001b[38;5;28;01mNone\u001b[39;00m:\n\u001b[1;32m    319\u001b[0m \u001b[38;5;250m    \u001b[39m\u001b[38;5;124;03m\"\"\"Set the animation progress.\u001b[39;00m\n\u001b[1;32m    320\u001b[0m \n\u001b[1;32m    321\u001b[0m \u001b[38;5;124;03m    This method gets called for every frame during an animation.\u001b[39;00m\n\u001b[0;32m   (...)\u001b[0m\n\u001b[1;32m    327\u001b[0m \u001b[38;5;124;03m        the end.\u001b[39;00m\n\u001b[1;32m    328\u001b[0m \u001b[38;5;124;03m    \"\"\"\u001b[39;00m\n\u001b[0;32m--> 329\u001b[0m     \u001b[38;5;28;43mself\u001b[39;49m\u001b[38;5;241;43m.\u001b[39;49m\u001b[43minterpolate_mobject\u001b[49m\u001b[43m(\u001b[49m\u001b[43malpha\u001b[49m\u001b[43m)\u001b[49m\n",
      "File \u001b[0;32m<string>:31\u001b[0m, in \u001b[0;36minterpolate_mobject\u001b[0;34m(self, value)\u001b[0m\n",
      "\u001b[0;31mTypeError\u001b[0m: unsupported operand type(s) for -: 'int' and 'tuple'"
     ]
    }
   ],
   "source": [
    "%%manim -qm -v WARNING CirclePrac\n",
    "\n",
    "class MovePointAroundCircle(Animation):\n",
    "    def __init__(self, dot: Dot, origin: [float], rad: float, deg: float, deg_n: float, **kwargs) -> None:\n",
    "        self.rate_func = kwargs.pop('rate_func', smooth)\n",
    "        super().__init__(dot, **kwargs)\n",
    "        self.dot = dot\n",
    "        self.origin = origin\n",
    "        self.rad = rad\n",
    "        self.deg = deg,\n",
    "        self.deg_n = deg_n\n",
    "        \n",
    "    def get_coord_from_deg(self) -> [float]:\n",
    "            if deg < 90:\n",
    "                x = (self.rad * sin(radians(self.deg))) + self.origin[0]\n",
    "                y = (self.rad * cos(radians(self.deg))) + self.origin[0]\n",
    "                return [x, y, 0]\n",
    "            if deg < 180:\n",
    "                x = (self.rad * cos(radians(self.deg - 90))) + self.origin[0]\n",
    "                y = -1 * (self.rad * sin(radians(self.deg - 90))) + self.origin[1]\n",
    "                return [x, y, 0]\n",
    "            if deg < 270:\n",
    "                x = -1 * (self.rad * sin(radians(self.deg - 180))) + self.origin[0]\n",
    "                y = -1 * (self.rad * cos(radians(self.deg - 180))) + self.origin[1]\n",
    "                return [x, y, 0]\n",
    "            x = -1 * (self.rad * cos(radians(self.deg - 270))) + self.origin[0]\n",
    "            y = (self.rad * sin(radians(self.deg - 270))) + self.origin[1]\n",
    "            return [x, y, 0]\n",
    "        \n",
    "    def interpolate_mobject(self, value):\n",
    "        \n",
    "        rf_deg = self.deg + ((self.deg_n-self.deg)*self.rate_func(alpha))\n",
    "        self.mobject.move_to(self.get_coord_from_deg(rf_deg))\n",
    "                    \n",
    "    \n",
    "class CirclePrac(Scene):\n",
    "\n",
    "    def construct(self):\n",
    "        def get_coord_from_deg(deg, rad, org) -> [float]:\n",
    "            if deg < 90:\n",
    "                x = (rad * sin(radians(deg))) + org[0]\n",
    "                y = (rad * cos(radians(deg))) + org[0]\n",
    "                return [x, y, 0]\n",
    "            if deg < 180:\n",
    "                x = (rad * cos(radians(deg - 90))) + org[0]\n",
    "                y = -1 * (rad * sin(radians(deg - 90))) + org[1]\n",
    "                return [x, y, 0]\n",
    "            if deg < 270:\n",
    "                x = -1 * (rad * sin(radians(deg - 180))) + org[0]\n",
    "                y = -1 * (rad * cos(radians(deg - 180))) + org[1]\n",
    "                return [x, y, 0]\n",
    "            x = -1 * (rad * cos(radians(deg - 270))) + org[0]\n",
    "            y = (rad * sin(radians(deg - 270))) + org[1]\n",
    "            return [x, y, 0]\n",
    "\n",
    "        \n",
    "        plane = NumberPlane()\n",
    "        circle = Circle(3, color=RED)\n",
    "        point = Dot()\n",
    "        self.add(plane)\n",
    "        self.play(Create(circle))\n",
    "        point.move_to(get_coord_from_deg(0, 3, [0, 0, 0]))\n",
    "        self.add(point)\n",
    "        self.wait()\n",
    "        self.play(MovePointAroundCircle(point, [0, 0], 3, 0, 450))"
   ]
  },
  {
   "cell_type": "code",
   "execution_count": null,
   "id": "cc49f346-72f8-4757-868b-73ec6935d532",
   "metadata": {},
   "outputs": [],
   "source": []
  }
 ],
 "metadata": {
  "kernelspec": {
   "display_name": "Python 3 (ipykernel)",
   "language": "python",
   "name": "python3"
  },
  "language_info": {
   "codemirror_mode": {
    "name": "ipython",
    "version": 3
   },
   "file_extension": ".py",
   "mimetype": "text/x-python",
   "name": "python",
   "nbconvert_exporter": "python",
   "pygments_lexer": "ipython3",
   "version": "3.12.1"
  }
 },
 "nbformat": 4,
 "nbformat_minor": 5
}
