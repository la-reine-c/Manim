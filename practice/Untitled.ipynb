{
 "cells": [
  {
   "cell_type": "code",
   "execution_count": 2,
   "id": "2c119dd4-bdd2-4d12-8948-e004140306b3",
   "metadata": {},
   "outputs": [],
   "source": [
    "from manim import *"
   ]
  },
  {
   "cell_type": "code",
   "execution_count": 21,
   "id": "c6fdb0fe-9912-4488-a6d3-9750f9fb4ac3",
   "metadata": {},
   "outputs": [
    {
     "data": {
      "text/html": [
       "<pre style=\"white-space:pre;overflow-x:auto;line-height:normal;font-family:Menlo,'DejaVu Sans Mono',consolas,'Courier New',monospace\">Manim Community <span style=\"color: #008000; text-decoration-color: #008000\">v0.18.1</span>\n",
       "\n",
       "</pre>\n"
      ],
      "text/plain": [
       "Manim Community \u001b[32mv0.\u001b[0m\u001b[32m18.1\u001b[0m\n",
       "\n"
      ]
     },
     "metadata": {},
     "output_type": "display_data"
    },
    {
     "name": "stderr",
     "output_type": "stream",
     "text": [
      "                                                                            "
     ]
    },
    {
     "data": {
      "text/html": [
       "<video src=\"media/jupyter/CirclePrac@2024-12-31@03-30-23.mp4\" controls autoplay loop style=\"max-width: 60%;\"  >\n",
       "      Your browser does not support the <code>video</code> element.\n",
       "    </video>"
      ],
      "text/plain": [
       "<IPython.core.display.Video object>"
      ]
     },
     "metadata": {},
     "output_type": "display_data"
    }
   ],
   "source": [
    "%%manim -qm -v WARNING CirclePrac\n",
    "\n",
    "# class MovePointAroundCircle(Animation):\n",
    "#     def __init__(self, dot: Dot, center: [float], rad: float):\n",
    "#         self.dot = dot\n",
    "#         self.center = center\n",
    "#         self.rad = rad\n",
    "        \n",
    "#     def interpolate_mobject(self, value):\n",
    "#         return value\n",
    " \n",
    "\n",
    "class CirclePrac(Scene):\n",
    "\n",
    "    def construct(self):\n",
    "        def get_point_on_circle(x=0, nval=1, rad=3, center=[0, 0]):\n",
    "            y_square_org = (rad**2) - ((x-center[0])**2)\n",
    "            y_org = y_square_org**0.5 + center[1]\n",
    "            y = y_org*nval\n",
    "            return [x, y, 0]\n",
    "            \n",
    "        plane = NumberPlane()\n",
    "        circle = Circle(3, color=RED)\n",
    "        point = Dot()\n",
    "        self.add(plane)\n",
    "        self.play(Create(circle))\n",
    "        point.move_to(get_point_on_circle(x=2, center=[0, 0]))\n",
    "        self.add(point)"
   ]
  }
 ],
 "metadata": {
  "kernelspec": {
   "display_name": "Python 3 (ipykernel)",
   "language": "python",
   "name": "python3"
  },
  "language_info": {
   "codemirror_mode": {
    "name": "ipython",
    "version": 3
   },
   "file_extension": ".py",
   "mimetype": "text/x-python",
   "name": "python",
   "nbconvert_exporter": "python",
   "pygments_lexer": "ipython3",
   "version": "3.12.1"
  }
 },
 "nbformat": 4,
 "nbformat_minor": 5
}
