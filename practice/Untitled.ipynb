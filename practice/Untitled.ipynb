{
 "cells": [
  {
   "cell_type": "code",
   "execution_count": 4,
   "id": "2c119dd4-bdd2-4d12-8948-e004140306b3",
   "metadata": {},
   "outputs": [],
   "source": [
    "from manim import *\n",
    "from math import *\n",
    "import numpy as np"
   ]
  },
  {
   "cell_type": "code",
   "execution_count": 24,
   "id": "c6fdb0fe-9912-4488-a6d3-9750f9fb4ac3",
   "metadata": {},
   "outputs": [
    {
     "data": {
      "text/html": [
       "<pre style=\"white-space:pre;overflow-x:auto;line-height:normal;font-family:Menlo,'DejaVu Sans Mono',consolas,'Courier New',monospace\">Manim Community <span style=\"color: #008000; text-decoration-color: #008000\">v0.18.1</span>\n",
       "\n",
       "</pre>\n"
      ],
      "text/plain": [
       "Manim Community \u001b[32mv0.\u001b[0m\u001b[32m18.1\u001b[0m\n",
       "\n"
      ]
     },
     "metadata": {},
     "output_type": "display_data"
    },
    {
     "name": "stderr",
     "output_type": "stream",
     "text": [
      "                                                                                         "
     ]
    },
    {
     "data": {
      "text/html": [
       "<video src=\"media/jupyter/CirclePrac@2025-01-01@17-01-26.mp4\" controls autoplay loop style=\"max-width: 60%;\"  >\n",
       "      Your browser does not support the <code>video</code> element.\n",
       "    </video>"
      ],
      "text/plain": [
       "<IPython.core.display.Video object>"
      ]
     },
     "metadata": {},
     "output_type": "display_data"
    }
   ],
   "source": [
    "%%manim -qm -v WARNING CirclePrac\n",
    "\n",
    "class MovePointAroundCircle(Animation):\n",
    "    def __init__(self, dot: Dot, origin: [float], rad: float, deg: float, deg_n: float, **kwargs) -> None:\n",
    "        self.rate_func = kwargs.pop('rate_func', smooth)\n",
    "        super().__init__(dot, **kwargs)\n",
    "        self.dot = dot\n",
    "        self.origin = origin\n",
    "        self.rad = rad\n",
    "        self.deg = deg\n",
    "        self.deg_n = deg_n\n",
    "\n",
    "    def interpolate_mobject(self, alpha) -> None:\n",
    "        def get_coord_from_deg(deg):\n",
    "            if deg < 90:\n",
    "                x = (self.rad * sin(radians(deg))) + self.origin[0]\n",
    "                y = (self.rad * cos(radians(deg))) + self.origin[0]\n",
    "                return np.array([x, y, 0])\n",
    "            if deg < 180:\n",
    "                x = (self.rad * cos(radians(deg - 90))) + self.origin[0]\n",
    "                y = -1 * (self.rad * sin(radians(deg - 90))) + self.origin[1]\n",
    "                return np.array([x, y, 0])\n",
    "            if deg < 270:\n",
    "                x = -1 * (self.rad * sin(radians(deg - 180))) + self.origin[0]\n",
    "                y = -1 * (self.rad * cos(radians(deg - 180))) + self.origin[1]\n",
    "                return np.array([x, y, 0])\n",
    "            x = -1 * (self.rad * cos(radians(deg - 270))) + self.origin[0]\n",
    "            y = (self.rad * sin(radians(deg - 270))) + self.origin[1]\n",
    "            return np.array([x, y, 0])\n",
    "\n",
    "        rf_alpha = self.rate_func(alpha)\n",
    "        rf_deg = self.deg + ((self.deg_n - self.deg)*rf_alpha)\n",
    "        self.mobject.move_to(get_coord_from_deg(rf_deg))\n",
    "                    \n",
    "    \n",
    "class CirclePrac(Scene):\n",
    "\n",
    "    def construct(self):\n",
    "        def get_coord_from_deg(deg, rad, org) -> [float]:\n",
    "            if deg < 90:\n",
    "                x = (rad * sin(radians(deg))) + org[0]\n",
    "                y = (rad * cos(radians(deg))) + org[0]\n",
    "                return [x, y, 0]\n",
    "            if deg < 180:\n",
    "                x = (rad * cos(radians(deg - 90))) + org[0]\n",
    "                y = -1 * (rad * sin(radians(deg - 90))) + org[1]\n",
    "                return [x, y, 0]\n",
    "            if deg < 270:\n",
    "                x = -1 * (rad * sin(radians(deg - 180))) + org[0]\n",
    "                y = -1 * (rad * cos(radians(deg - 180))) + org[1]\n",
    "                return [x, y, 0]\n",
    "            x = -1 * (rad * cos(radians(deg - 270))) + org[0]\n",
    "            y = (rad * sin(radians(deg - 270))) + org[1]\n",
    "            return [x, y, 0]\n",
    "\n",
    "        \n",
    "        plane = NumberPlane()\n",
    "        circle = Circle(3, color=RED)\n",
    "        point = Dot()\n",
    "        self.add(plane)\n",
    "        self.play(Create(circle))\n",
    "        point.move_to(get_coord_from_deg(0, 3, [0, 0, 0]))\n",
    "        self.add(point)\n",
    "        self.wait()\n",
    "        self.play(MovePointAroundCircle(point, [0, 0], 3, 0, 209, ))\n",
    "        self.wait()"
   ]
  },
  {
   "cell_type": "code",
   "execution_count": null,
   "id": "cc49f346-72f8-4757-868b-73ec6935d532",
   "metadata": {},
   "outputs": [],
   "source": []
  }
 ],
 "metadata": {
  "kernelspec": {
   "display_name": "Python 3 (ipykernel)",
   "language": "python",
   "name": "python3"
  },
  "language_info": {
   "codemirror_mode": {
    "name": "ipython",
    "version": 3
   },
   "file_extension": ".py",
   "mimetype": "text/x-python",
   "name": "python",
   "nbconvert_exporter": "python",
   "pygments_lexer": "ipython3",
   "version": "3.12.1"
  }
 },
 "nbformat": 4,
 "nbformat_minor": 5
}
