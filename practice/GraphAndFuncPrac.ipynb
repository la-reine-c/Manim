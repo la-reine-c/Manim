{
 "cells": [
  {
   "cell_type": "code",
   "execution_count": 2,
   "id": "92f8dc95-89fe-4938-86b4-3b6b3138bf4b",
   "metadata": {},
   "outputs": [],
   "source": [
    "from manim import *\n",
    "import numpy as np"
   ]
  },
  {
   "cell_type": "code",
   "execution_count": 9,
   "id": "5d1c80f5-2644-438f-960b-c1845bdd760e",
   "metadata": {},
   "outputs": [
    {
     "data": {
      "text/html": [
       "<pre style=\"white-space:pre;overflow-x:auto;line-height:normal;font-family:Menlo,'DejaVu Sans Mono',consolas,'Courier New',monospace\">Manim Community <span style=\"color: #008000; text-decoration-color: #008000\">v0.18.1</span>\n",
       "\n",
       "</pre>\n"
      ],
      "text/plain": [
       "Manim Community \u001b[32mv0.\u001b[0m\u001b[32m18.1\u001b[0m\n",
       "\n"
      ]
     },
     "metadata": {},
     "output_type": "display_data"
    },
    {
     "name": "stderr",
     "output_type": "stream",
     "text": [
      "                                                                                        "
     ]
    },
    {
     "data": {
      "text/html": [
       "<video src=\"media/jupyter/QuadraticFunction@2024-12-27@19-05-45.mp4\" controls autoplay loop style=\"max-width: 60%;\"  >\n",
       "      Your browser does not support the <code>video</code> element.\n",
       "    </video>"
      ],
      "text/plain": [
       "<IPython.core.display.Video object>"
      ]
     },
     "metadata": {},
     "output_type": "display_data"
    }
   ],
   "source": [
    "%%manim -qm -v WARNING QuadraticFunction\n",
    "\n",
    "class Count(Animation):\n",
    "    def __init__(self, number: DecimalNumber, start: float, end: float, **kwargs) -> None:\n",
    "        # Pass number as Mobject to Super\n",
    "        super().__init__(number,  rate_func=smooth, **kwargs)\n",
    "        # Set parameters\n",
    "        self.start = start\n",
    "        self.end = end\n",
    "    \n",
    "    def interpolate_mobject(self, alpha) -> None:\n",
    "        # Set value to be incremental using alpha\n",
    "        value = self.start + (alpha * (self.end - self.start))\n",
    "        self.mobject.set_value(value)\n",
    "\n",
    "class TransformDot(Animation):\n",
    "    def __init__(self, dot: Dot, start_graph: [float], end_graph: [float], **kwargs) -> None:\n",
    "        super().__init__(dot, **kwargs)\n",
    "        self.start_graph = start_graph\n",
    "        self.end_graph = end_graph\n",
    "\n",
    "    def interpolate_mobject(self, alpha) -> None:\n",
    "        alpha_a = self.start_graph[0] + ((self.end_graph[0] - self.start_graph[0])*alpha)\n",
    "        alpha_b = self.start_graph[1] + ((self.end_graph[1] - self.start_graph[1])*alpha)\n",
    "        alpha_c = self.start_graph[2] + ((self.end_graph[2] - self.start_graph[2])*alpha)\n",
    "\n",
    "        alpha_x = -alpha_b/(2*alpha_a)\n",
    "        alpha_\n",
    "        \n",
    "        self.mobject.move_to(position)\n",
    "        \n",
    "        \n",
    "class QuadraticFunction(Scene):\n",
    "    def construct(self):\n",
    "        # Set background\n",
    "        number_plane = NumberPlane()\n",
    "        border_m_disp = Rectangle(width=3.0, height=2.0).shift(RIGHT*5, UP*2.5).set_fill(BLACK, opacity=1)\n",
    "        # \n",
    "        def get_quad_func(a, b, c):\n",
    "            return FunctionGraph(\n",
    "                lambda x: (a*(x**2))+(b*x) + c\n",
    "            )\n",
    "    \n",
    "        def get_value_point(a, b, c):\n",
    "            x = - b/(2*a)\n",
    "            y = (a*(x**2))+(b*x) + c\n",
    "            return number_plane.c2p(x, y)\n",
    "            \n",
    "        def get_line(b_one, b_two):\n",
    "            points_along_path_b = np.linspace(b_one, b_two, 100)\n",
    "            points_along_path = [get_value_point(1, b, 0) for b in points_along_path_b]\n",
    "            line = VMobject()\n",
    "            line.set_points_smoothly(points_along_path)\n",
    "            return line\n",
    "\n",
    "        \n",
    "        line_qfone_to_qftwo = get_line(3, -3)\n",
    "        qfone = get_quad_func(1, 3, 0)\n",
    "        qftwo = get_quad_func(1, -3, 0)\n",
    "        done = Dot(get_value_point(1, 3, 0))\n",
    "        dtwo = Dot(get_value_point(1, -3, 0))\n",
    "        \n",
    "        fgone = VGroup(qfone, done)\n",
    "        fgtwo = VGroup(qftwo, dtwo)\n",
    "        \n",
    "        number = DecimalNumber(3)\n",
    "        label = MathTex(r\"b = \").next_to(number, LEFT).align_to(number, DOWN)\n",
    "        counter = VGroup(label, number)\n",
    "        counter.next_to(border_m_disp, ORIGIN)\n",
    "        self.add(number_plane, border_m_disp, counter)\n",
    "        self.add(qfone, done)\n",
    "        self.play(Count(number, 3,  -3), Transform(qfone, qftwo), Create(line_qfone_to_qftwo), TransformDot(done, [1, 3, 0], [1, -3, 0], rate_func=smooth, run_time=2), rate_func=smooth, run_time=2)\n",
    "        self.wait()"
   ]
  }
 ],
 "metadata": {
  "kernelspec": {
   "display_name": "Python 3 (ipykernel)",
   "language": "python",
   "name": "python3"
  },
  "language_info": {
   "codemirror_mode": {
    "name": "ipython",
    "version": 3
   },
   "file_extension": ".py",
   "mimetype": "text/x-python",
   "name": "python",
   "nbconvert_exporter": "python",
   "pygments_lexer": "ipython3",
   "version": "3.12.1"
  }
 },
 "nbformat": 4,
 "nbformat_minor": 5
}
