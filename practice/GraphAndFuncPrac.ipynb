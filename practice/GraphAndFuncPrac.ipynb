{
 "cells": [
  {
   "cell_type": "code",
   "execution_count": 3,
   "id": "92f8dc95-89fe-4938-86b4-3b6b3138bf4b",
   "metadata": {},
   "outputs": [],
   "source": [
    "from manim import *\n",
    "import numpy as np"
   ]
  },
  {
   "cell_type": "code",
   "execution_count": 12,
   "id": "5d1c80f5-2644-438f-960b-c1845bdd760e",
   "metadata": {},
   "outputs": [
    {
     "data": {
      "text/html": [
       "<pre style=\"white-space:pre;overflow-x:auto;line-height:normal;font-family:Menlo,'DejaVu Sans Mono',consolas,'Courier New',monospace\">Manim Community <span style=\"color: #008000; text-decoration-color: #008000\">v0.18.1</span>\n",
       "\n",
       "</pre>\n"
      ],
      "text/plain": [
       "Manim Community \u001b[32mv0.\u001b[0m\u001b[32m18.1\u001b[0m\n",
       "\n"
      ]
     },
     "metadata": {},
     "output_type": "display_data"
    },
    {
     "ename": "TypeError",
     "evalue": "Mobject.set_coord() missing 1 required positional argument: 'dim'",
     "output_type": "error",
     "traceback": [
      "\u001b[0;31m---------------------------------------------------------------------------\u001b[0m",
      "\u001b[0;31mTypeError\u001b[0m                                 Traceback (most recent call last)",
      "Cell \u001b[0;32mIn[12], line 1\u001b[0m\n\u001b[0;32m----> 1\u001b[0m \u001b[43mget_ipython\u001b[49m\u001b[43m(\u001b[49m\u001b[43m)\u001b[49m\u001b[38;5;241;43m.\u001b[39;49m\u001b[43mrun_cell_magic\u001b[49m\u001b[43m(\u001b[49m\u001b[38;5;124;43m'\u001b[39;49m\u001b[38;5;124;43mmanim\u001b[39;49m\u001b[38;5;124;43m'\u001b[39;49m\u001b[43m,\u001b[49m\u001b[43m \u001b[49m\u001b[38;5;124;43m'\u001b[39;49m\u001b[38;5;124;43m-qm -v WARNING QuadraticFunction\u001b[39;49m\u001b[38;5;124;43m'\u001b[39;49m\u001b[43m,\u001b[49m\u001b[43m \u001b[49m\u001b[38;5;124;43m'\u001b[39;49m\u001b[38;5;130;43;01m\\n\u001b[39;49;00m\u001b[38;5;124;43mclass Count(Animation):\u001b[39;49m\u001b[38;5;130;43;01m\\n\u001b[39;49;00m\u001b[38;5;124;43m    def __init__(self, number: DecimalNumber, start: float, end: float, **kwargs) -> None:\u001b[39;49m\u001b[38;5;130;43;01m\\n\u001b[39;49;00m\u001b[38;5;124;43m        # Pass number as Mobject to Super\u001b[39;49m\u001b[38;5;130;43;01m\\n\u001b[39;49;00m\u001b[38;5;124;43m        super().__init__(number,  rate_func=smooth, **kwargs)\u001b[39;49m\u001b[38;5;130;43;01m\\n\u001b[39;49;00m\u001b[38;5;124;43m        # Set parameters\u001b[39;49m\u001b[38;5;130;43;01m\\n\u001b[39;49;00m\u001b[38;5;124;43m        self.start = start\u001b[39;49m\u001b[38;5;130;43;01m\\n\u001b[39;49;00m\u001b[38;5;124;43m        self.end = end\u001b[39;49m\u001b[38;5;130;43;01m\\n\u001b[39;49;00m\u001b[38;5;130;43;01m\\n\u001b[39;49;00m\u001b[38;5;124;43m    def interpolate_mobject(self, alpha) -> None:\u001b[39;49m\u001b[38;5;130;43;01m\\n\u001b[39;49;00m\u001b[38;5;124;43m        # Set value to be incremental using alpha\u001b[39;49m\u001b[38;5;130;43;01m\\n\u001b[39;49;00m\u001b[38;5;124;43m        value = self.start + (alpha * (self.end - self.start))\u001b[39;49m\u001b[38;5;130;43;01m\\n\u001b[39;49;00m\u001b[38;5;124;43m        self.mobject.set_value(value)\u001b[39;49m\u001b[38;5;130;43;01m\\n\u001b[39;49;00m\u001b[38;5;130;43;01m\\n\u001b[39;49;00m\u001b[38;5;124;43mclass TransformDot(Animation):\u001b[39;49m\u001b[38;5;130;43;01m\\n\u001b[39;49;00m\u001b[38;5;124;43m    def __init__(self, dot: Dot, start_graph: [float], end_graph: [float], **kwargs) -> None:\u001b[39;49m\u001b[38;5;130;43;01m\\n\u001b[39;49;00m\u001b[38;5;124;43m        super().__init__(dot, **kwargs)\u001b[39;49m\u001b[38;5;130;43;01m\\n\u001b[39;49;00m\u001b[38;5;124;43m        self.start_graph = start_graph\u001b[39;49m\u001b[38;5;130;43;01m\\n\u001b[39;49;00m\u001b[38;5;124;43m        self.end_graph = end_graph\u001b[39;49m\u001b[38;5;130;43;01m\\n\u001b[39;49;00m\u001b[38;5;130;43;01m\\n\u001b[39;49;00m\u001b[38;5;124;43m    def interpolate_mobject(self, alpha) -> None:\u001b[39;49m\u001b[38;5;130;43;01m\\n\u001b[39;49;00m\u001b[38;5;124;43m        value_a = self.start_graph[0] + ((self.end_graph[0] - self.start_graph[0])*alpha)\u001b[39;49m\u001b[38;5;130;43;01m\\n\u001b[39;49;00m\u001b[38;5;124;43m        value_b = self.start_graph[1] + ((self.end_graph[1] - self.start_graph[1])*alpha)\u001b[39;49m\u001b[38;5;130;43;01m\\n\u001b[39;49;00m\u001b[38;5;124;43m        value_c = self.start_graph[2] + ((self.end_graph[2] - self.start_graph[2])*alpha)\u001b[39;49m\u001b[38;5;130;43;01m\\n\u001b[39;49;00m\u001b[38;5;130;43;01m\\n\u001b[39;49;00m\u001b[38;5;124;43m        def get_value_point(a, b, c):\u001b[39;49m\u001b[38;5;130;43;01m\\n\u001b[39;49;00m\u001b[38;5;124;43m            x = - b/(2*a)\u001b[39;49m\u001b[38;5;130;43;01m\\n\u001b[39;49;00m\u001b[38;5;124;43m            y = (a*(x**2))+(b*x) + c\u001b[39;49m\u001b[38;5;130;43;01m\\n\u001b[39;49;00m\u001b[38;5;124;43m            return (x, y, 0)\u001b[39;49m\u001b[38;5;130;43;01m\\n\u001b[39;49;00m\u001b[38;5;130;43;01m\\n\u001b[39;49;00m\u001b[38;5;124;43m        self.mobject.set_coord(get_value_point(value_a, value_b, value_c))\u001b[39;49m\u001b[38;5;130;43;01m\\n\u001b[39;49;00m\u001b[38;5;124;43m        \u001b[39;49m\u001b[38;5;130;43;01m\\n\u001b[39;49;00m\u001b[38;5;124;43m        \u001b[39;49m\u001b[38;5;130;43;01m\\n\u001b[39;49;00m\u001b[38;5;124;43mclass QuadraticFunction(Scene):\u001b[39;49m\u001b[38;5;130;43;01m\\n\u001b[39;49;00m\u001b[38;5;124;43m    def construct(self):\u001b[39;49m\u001b[38;5;130;43;01m\\n\u001b[39;49;00m\u001b[38;5;124;43m        # Set background\u001b[39;49m\u001b[38;5;130;43;01m\\n\u001b[39;49;00m\u001b[38;5;124;43m        number_plane = NumberPlane()\u001b[39;49m\u001b[38;5;130;43;01m\\n\u001b[39;49;00m\u001b[38;5;124;43m        border_m_disp = Rectangle(width=3.0, height=2.0).shift(RIGHT*5, UP*2.5).set_fill(BLACK, opacity=1)\u001b[39;49m\u001b[38;5;130;43;01m\\n\u001b[39;49;00m\u001b[38;5;124;43m        # \u001b[39;49m\u001b[38;5;130;43;01m\\n\u001b[39;49;00m\u001b[38;5;124;43m        def get_quad_func(a, b, c):\u001b[39;49m\u001b[38;5;130;43;01m\\n\u001b[39;49;00m\u001b[38;5;124;43m            return FunctionGraph(\u001b[39;49m\u001b[38;5;130;43;01m\\n\u001b[39;49;00m\u001b[38;5;124;43m                lambda x: (a*(x**2))+(b*x) + c\u001b[39;49m\u001b[38;5;130;43;01m\\n\u001b[39;49;00m\u001b[38;5;124;43m            )\u001b[39;49m\u001b[38;5;130;43;01m\\n\u001b[39;49;00m\u001b[38;5;124;43m    \u001b[39;49m\u001b[38;5;130;43;01m\\n\u001b[39;49;00m\u001b[38;5;124;43m        def get_value_point(a, b, c):\u001b[39;49m\u001b[38;5;130;43;01m\\n\u001b[39;49;00m\u001b[38;5;124;43m            x = - b/(2*a)\u001b[39;49m\u001b[38;5;130;43;01m\\n\u001b[39;49;00m\u001b[38;5;124;43m            y = (a*(x**2))+(b*x) + c\u001b[39;49m\u001b[38;5;130;43;01m\\n\u001b[39;49;00m\u001b[38;5;124;43m            return number_plane.c2p(x, y)\u001b[39;49m\u001b[38;5;130;43;01m\\n\u001b[39;49;00m\u001b[38;5;124;43m            \u001b[39;49m\u001b[38;5;130;43;01m\\n\u001b[39;49;00m\u001b[38;5;124;43m        def get_line(b_one, b_two):\u001b[39;49m\u001b[38;5;130;43;01m\\n\u001b[39;49;00m\u001b[38;5;124;43m            points_along_path_b = np.linspace(b_one, b_two, 100)\u001b[39;49m\u001b[38;5;130;43;01m\\n\u001b[39;49;00m\u001b[38;5;124;43m            points_along_path = [get_value_point(1, b, 0) for b in points_along_path_b]\u001b[39;49m\u001b[38;5;130;43;01m\\n\u001b[39;49;00m\u001b[38;5;124;43m            line = VMobject()\u001b[39;49m\u001b[38;5;130;43;01m\\n\u001b[39;49;00m\u001b[38;5;124;43m            line.set_points_smoothly(points_along_path)\u001b[39;49m\u001b[38;5;130;43;01m\\n\u001b[39;49;00m\u001b[38;5;124;43m            return line\u001b[39;49m\u001b[38;5;130;43;01m\\n\u001b[39;49;00m\u001b[38;5;130;43;01m\\n\u001b[39;49;00m\u001b[38;5;124;43m        \u001b[39;49m\u001b[38;5;130;43;01m\\n\u001b[39;49;00m\u001b[38;5;124;43m        line_qfone_to_qftwo = get_line(3, -3)\u001b[39;49m\u001b[38;5;130;43;01m\\n\u001b[39;49;00m\u001b[38;5;124;43m        qfone = get_quad_func(1, 3, 0)\u001b[39;49m\u001b[38;5;130;43;01m\\n\u001b[39;49;00m\u001b[38;5;124;43m        qftwo = get_quad_func(1, -3, 0)\u001b[39;49m\u001b[38;5;130;43;01m\\n\u001b[39;49;00m\u001b[38;5;124;43m        done = Dot(get_value_point(1, 3, 0))\u001b[39;49m\u001b[38;5;130;43;01m\\n\u001b[39;49;00m\u001b[38;5;124;43m        dtwo = Dot(get_value_point(1, -3, 0))\u001b[39;49m\u001b[38;5;130;43;01m\\n\u001b[39;49;00m\u001b[38;5;124;43m        \u001b[39;49m\u001b[38;5;130;43;01m\\n\u001b[39;49;00m\u001b[38;5;124;43m        fgone = VGroup(qfone, done)\u001b[39;49m\u001b[38;5;130;43;01m\\n\u001b[39;49;00m\u001b[38;5;124;43m        fgtwo = VGroup(qftwo, dtwo)\u001b[39;49m\u001b[38;5;130;43;01m\\n\u001b[39;49;00m\u001b[38;5;124;43m        \u001b[39;49m\u001b[38;5;130;43;01m\\n\u001b[39;49;00m\u001b[38;5;124;43m        number = DecimalNumber(3)\u001b[39;49m\u001b[38;5;130;43;01m\\n\u001b[39;49;00m\u001b[38;5;124;43m        label = MathTex(r\u001b[39;49m\u001b[38;5;124;43m\"\u001b[39;49m\u001b[38;5;124;43mb = \u001b[39;49m\u001b[38;5;124;43m\"\u001b[39;49m\u001b[38;5;124;43m).next_to(number, LEFT).align_to(number, DOWN)\u001b[39;49m\u001b[38;5;130;43;01m\\n\u001b[39;49;00m\u001b[38;5;124;43m        counter = VGroup(label, number)\u001b[39;49m\u001b[38;5;130;43;01m\\n\u001b[39;49;00m\u001b[38;5;124;43m        counter.next_to(border_m_disp, ORIGIN)\u001b[39;49m\u001b[38;5;130;43;01m\\n\u001b[39;49;00m\u001b[38;5;124;43m        self.add(number_plane, border_m_disp, counter)\u001b[39;49m\u001b[38;5;130;43;01m\\n\u001b[39;49;00m\u001b[38;5;124;43m        self.add(qfone, done)\u001b[39;49m\u001b[38;5;130;43;01m\\n\u001b[39;49;00m\u001b[38;5;124;43m        self.play(Count(number, 3,  -3), Transform(qfone, qftwo), Create(line_qfone_to_qftwo), TransformDot(done, [1, 3, 0], [1, -3, 0], rate_func=smooth, run_time=2), rate_func=smooth, run_time=2)\u001b[39;49m\u001b[38;5;130;43;01m\\n\u001b[39;49;00m\u001b[38;5;124;43m        self.wait()\u001b[39;49m\u001b[38;5;130;43;01m\\n\u001b[39;49;00m\u001b[38;5;124;43m'\u001b[39;49m\u001b[43m)\u001b[49m\n",
      "File \u001b[0;32m/usr/local/python/3.12.1/lib/python3.12/site-packages/IPython/core/interactiveshell.py:2517\u001b[0m, in \u001b[0;36mInteractiveShell.run_cell_magic\u001b[0;34m(self, magic_name, line, cell)\u001b[0m\n\u001b[1;32m   2515\u001b[0m \u001b[38;5;28;01mwith\u001b[39;00m \u001b[38;5;28mself\u001b[39m\u001b[38;5;241m.\u001b[39mbuiltin_trap:\n\u001b[1;32m   2516\u001b[0m     args \u001b[38;5;241m=\u001b[39m (magic_arg_s, cell)\n\u001b[0;32m-> 2517\u001b[0m     result \u001b[38;5;241m=\u001b[39m \u001b[43mfn\u001b[49m\u001b[43m(\u001b[49m\u001b[38;5;241;43m*\u001b[39;49m\u001b[43margs\u001b[49m\u001b[43m,\u001b[49m\u001b[43m \u001b[49m\u001b[38;5;241;43m*\u001b[39;49m\u001b[38;5;241;43m*\u001b[39;49m\u001b[43mkwargs\u001b[49m\u001b[43m)\u001b[49m\n\u001b[1;32m   2519\u001b[0m \u001b[38;5;66;03m# The code below prevents the output from being displayed\u001b[39;00m\n\u001b[1;32m   2520\u001b[0m \u001b[38;5;66;03m# when using magics with decorator @output_can_be_silenced\u001b[39;00m\n\u001b[1;32m   2521\u001b[0m \u001b[38;5;66;03m# when the last Python token in the expression is a ';'.\u001b[39;00m\n\u001b[1;32m   2522\u001b[0m \u001b[38;5;28;01mif\u001b[39;00m \u001b[38;5;28mgetattr\u001b[39m(fn, magic\u001b[38;5;241m.\u001b[39mMAGIC_OUTPUT_CAN_BE_SILENCED, \u001b[38;5;28;01mFalse\u001b[39;00m):\n",
      "File \u001b[0;32m/usr/local/python/3.12.1/lib/python3.12/site-packages/manim/utils/ipython_magic.py:143\u001b[0m, in \u001b[0;36mManimMagic.manim\u001b[0;34m(self, line, cell, local_ns)\u001b[0m\n\u001b[1;32m    141\u001b[0m     SceneClass \u001b[38;5;241m=\u001b[39m local_ns[config[\u001b[38;5;124m\"\u001b[39m\u001b[38;5;124mscene_names\u001b[39m\u001b[38;5;124m\"\u001b[39m][\u001b[38;5;241m0\u001b[39m]]\n\u001b[1;32m    142\u001b[0m     scene \u001b[38;5;241m=\u001b[39m SceneClass(renderer\u001b[38;5;241m=\u001b[39mrenderer)\n\u001b[0;32m--> 143\u001b[0m     \u001b[43mscene\u001b[49m\u001b[38;5;241;43m.\u001b[39;49m\u001b[43mrender\u001b[49m\u001b[43m(\u001b[49m\u001b[43m)\u001b[49m\n\u001b[1;32m    144\u001b[0m \u001b[38;5;28;01mfinally\u001b[39;00m:\n\u001b[1;32m    145\u001b[0m     \u001b[38;5;66;03m# Shader cache becomes invalid as the context is destroyed\u001b[39;00m\n\u001b[1;32m    146\u001b[0m     shader_program_cache\u001b[38;5;241m.\u001b[39mclear()\n",
      "File \u001b[0;32m/usr/local/python/3.12.1/lib/python3.12/site-packages/manim/scene/scene.py:229\u001b[0m, in \u001b[0;36mScene.render\u001b[0;34m(self, preview)\u001b[0m\n\u001b[1;32m    227\u001b[0m \u001b[38;5;28mself\u001b[39m\u001b[38;5;241m.\u001b[39msetup()\n\u001b[1;32m    228\u001b[0m \u001b[38;5;28;01mtry\u001b[39;00m:\n\u001b[0;32m--> 229\u001b[0m     \u001b[38;5;28;43mself\u001b[39;49m\u001b[38;5;241;43m.\u001b[39;49m\u001b[43mconstruct\u001b[49m\u001b[43m(\u001b[49m\u001b[43m)\u001b[49m\n\u001b[1;32m    230\u001b[0m \u001b[38;5;28;01mexcept\u001b[39;00m EndSceneEarlyException:\n\u001b[1;32m    231\u001b[0m     \u001b[38;5;28;01mpass\u001b[39;00m\n",
      "File \u001b[0;32m<string>:73\u001b[0m, in \u001b[0;36mconstruct\u001b[0;34m(self)\u001b[0m\n",
      "File \u001b[0;32m/usr/local/python/3.12.1/lib/python3.12/site-packages/manim/scene/scene.py:1092\u001b[0m, in \u001b[0;36mScene.play\u001b[0;34m(self, subcaption, subcaption_duration, subcaption_offset, *args, **kwargs)\u001b[0m\n\u001b[1;32m   1089\u001b[0m     \u001b[38;5;28;01mreturn\u001b[39;00m\n\u001b[1;32m   1091\u001b[0m start_time \u001b[38;5;241m=\u001b[39m \u001b[38;5;28mself\u001b[39m\u001b[38;5;241m.\u001b[39mrenderer\u001b[38;5;241m.\u001b[39mtime\n\u001b[0;32m-> 1092\u001b[0m \u001b[38;5;28;43mself\u001b[39;49m\u001b[38;5;241;43m.\u001b[39;49m\u001b[43mrenderer\u001b[49m\u001b[38;5;241;43m.\u001b[39;49m\u001b[43mplay\u001b[49m\u001b[43m(\u001b[49m\u001b[38;5;28;43mself\u001b[39;49m\u001b[43m,\u001b[49m\u001b[43m \u001b[49m\u001b[38;5;241;43m*\u001b[39;49m\u001b[43margs\u001b[49m\u001b[43m,\u001b[49m\u001b[43m \u001b[49m\u001b[38;5;241;43m*\u001b[39;49m\u001b[38;5;241;43m*\u001b[39;49m\u001b[43mkwargs\u001b[49m\u001b[43m)\u001b[49m\n\u001b[1;32m   1093\u001b[0m run_time \u001b[38;5;241m=\u001b[39m \u001b[38;5;28mself\u001b[39m\u001b[38;5;241m.\u001b[39mrenderer\u001b[38;5;241m.\u001b[39mtime \u001b[38;5;241m-\u001b[39m start_time\n\u001b[1;32m   1094\u001b[0m \u001b[38;5;28;01mif\u001b[39;00m subcaption:\n",
      "File \u001b[0;32m/usr/local/python/3.12.1/lib/python3.12/site-packages/manim/renderer/cairo_renderer.py:103\u001b[0m, in \u001b[0;36mCairoRenderer.play\u001b[0;34m(self, scene, *args, **kwargs)\u001b[0m\n\u001b[1;32m     97\u001b[0m logger\u001b[38;5;241m.\u001b[39mdebug(\n\u001b[1;32m     98\u001b[0m     \u001b[38;5;124m\"\u001b[39m\u001b[38;5;124mList of the first few animation hashes of the scene: \u001b[39m\u001b[38;5;132;01m%(h)s\u001b[39;00m\u001b[38;5;124m\"\u001b[39m,\n\u001b[1;32m     99\u001b[0m     {\u001b[38;5;124m\"\u001b[39m\u001b[38;5;124mh\u001b[39m\u001b[38;5;124m\"\u001b[39m: \u001b[38;5;28mstr\u001b[39m(\u001b[38;5;28mself\u001b[39m\u001b[38;5;241m.\u001b[39manimations_hashes[:\u001b[38;5;241m5\u001b[39m])},\n\u001b[1;32m    100\u001b[0m )\n\u001b[1;32m    102\u001b[0m \u001b[38;5;28mself\u001b[39m\u001b[38;5;241m.\u001b[39mfile_writer\u001b[38;5;241m.\u001b[39mbegin_animation(\u001b[38;5;129;01mnot\u001b[39;00m \u001b[38;5;28mself\u001b[39m\u001b[38;5;241m.\u001b[39mskip_animations)\n\u001b[0;32m--> 103\u001b[0m \u001b[43mscene\u001b[49m\u001b[38;5;241;43m.\u001b[39;49m\u001b[43mbegin_animations\u001b[49m\u001b[43m(\u001b[49m\u001b[43m)\u001b[49m\n\u001b[1;32m    105\u001b[0m \u001b[38;5;66;03m# Save a static image, to avoid rendering non moving objects.\u001b[39;00m\n\u001b[1;32m    106\u001b[0m \u001b[38;5;28mself\u001b[39m\u001b[38;5;241m.\u001b[39msave_static_frame_data(scene, scene\u001b[38;5;241m.\u001b[39mstatic_mobjects)\n",
      "File \u001b[0;32m/usr/local/python/3.12.1/lib/python3.12/site-packages/manim/scene/scene.py:1224\u001b[0m, in \u001b[0;36mScene.begin_animations\u001b[0;34m(self)\u001b[0m\n\u001b[1;32m   1222\u001b[0m \u001b[38;5;28;01mfor\u001b[39;00m animation \u001b[38;5;129;01min\u001b[39;00m \u001b[38;5;28mself\u001b[39m\u001b[38;5;241m.\u001b[39manimations:\n\u001b[1;32m   1223\u001b[0m     animation\u001b[38;5;241m.\u001b[39m_setup_scene(\u001b[38;5;28mself\u001b[39m)\n\u001b[0;32m-> 1224\u001b[0m     \u001b[43manimation\u001b[49m\u001b[38;5;241;43m.\u001b[39;49m\u001b[43mbegin\u001b[49m\u001b[43m(\u001b[49m\u001b[43m)\u001b[49m\n\u001b[1;32m   1226\u001b[0m \u001b[38;5;28;01mif\u001b[39;00m config\u001b[38;5;241m.\u001b[39mrenderer \u001b[38;5;241m==\u001b[39m RendererType\u001b[38;5;241m.\u001b[39mCAIRO:\n\u001b[1;32m   1227\u001b[0m     \u001b[38;5;66;03m# Paint all non-moving objects onto the screen, so they don't\u001b[39;00m\n\u001b[1;32m   1228\u001b[0m     \u001b[38;5;66;03m# have to be rendered every frame\u001b[39;00m\n\u001b[1;32m   1229\u001b[0m     (\n\u001b[1;32m   1230\u001b[0m         \u001b[38;5;28mself\u001b[39m\u001b[38;5;241m.\u001b[39mmoving_mobjects,\n\u001b[1;32m   1231\u001b[0m         \u001b[38;5;28mself\u001b[39m\u001b[38;5;241m.\u001b[39mstatic_mobjects,\n\u001b[1;32m   1232\u001b[0m     ) \u001b[38;5;241m=\u001b[39m \u001b[38;5;28mself\u001b[39m\u001b[38;5;241m.\u001b[39mget_moving_and_static_mobjects(\u001b[38;5;28mself\u001b[39m\u001b[38;5;241m.\u001b[39manimations)\n",
      "File \u001b[0;32m/usr/local/python/3.12.1/lib/python3.12/site-packages/manim/animation/animation.py:209\u001b[0m, in \u001b[0;36mAnimation.begin\u001b[0;34m(self)\u001b[0m\n\u001b[1;32m    201\u001b[0m \u001b[38;5;28;01mif\u001b[39;00m \u001b[38;5;28mself\u001b[39m\u001b[38;5;241m.\u001b[39msuspend_mobject_updating:\n\u001b[1;32m    202\u001b[0m     \u001b[38;5;66;03m# All calls to self.mobject's internal updaters\u001b[39;00m\n\u001b[1;32m    203\u001b[0m     \u001b[38;5;66;03m# during the animation, either from this Animation\u001b[39;00m\n\u001b[0;32m   (...)\u001b[0m\n\u001b[1;32m    206\u001b[0m     \u001b[38;5;66;03m# the internal updaters of self.starting_mobject,\u001b[39;00m\n\u001b[1;32m    207\u001b[0m     \u001b[38;5;66;03m# or any others among self.get_all_mobjects()\u001b[39;00m\n\u001b[1;32m    208\u001b[0m     \u001b[38;5;28mself\u001b[39m\u001b[38;5;241m.\u001b[39mmobject\u001b[38;5;241m.\u001b[39msuspend_updating()\n\u001b[0;32m--> 209\u001b[0m \u001b[38;5;28;43mself\u001b[39;49m\u001b[38;5;241;43m.\u001b[39;49m\u001b[43minterpolate\u001b[49m\u001b[43m(\u001b[49m\u001b[38;5;241;43m0\u001b[39;49m\u001b[43m)\u001b[49m\n",
      "File \u001b[0;32m/usr/local/python/3.12.1/lib/python3.12/site-packages/manim/animation/animation.py:329\u001b[0m, in \u001b[0;36mAnimation.interpolate\u001b[0;34m(self, alpha)\u001b[0m\n\u001b[1;32m    318\u001b[0m \u001b[38;5;28;01mdef\u001b[39;00m \u001b[38;5;21minterpolate\u001b[39m(\u001b[38;5;28mself\u001b[39m, alpha: \u001b[38;5;28mfloat\u001b[39m) \u001b[38;5;241m-\u001b[39m\u001b[38;5;241m>\u001b[39m \u001b[38;5;28;01mNone\u001b[39;00m:\n\u001b[1;32m    319\u001b[0m \u001b[38;5;250m    \u001b[39m\u001b[38;5;124;03m\"\"\"Set the animation progress.\u001b[39;00m\n\u001b[1;32m    320\u001b[0m \n\u001b[1;32m    321\u001b[0m \u001b[38;5;124;03m    This method gets called for every frame during an animation.\u001b[39;00m\n\u001b[0;32m   (...)\u001b[0m\n\u001b[1;32m    327\u001b[0m \u001b[38;5;124;03m        the end.\u001b[39;00m\n\u001b[1;32m    328\u001b[0m \u001b[38;5;124;03m    \"\"\"\u001b[39;00m\n\u001b[0;32m--> 329\u001b[0m     \u001b[38;5;28;43mself\u001b[39;49m\u001b[38;5;241;43m.\u001b[39;49m\u001b[43minterpolate_mobject\u001b[49m\u001b[43m(\u001b[49m\u001b[43malpha\u001b[49m\u001b[43m)\u001b[49m\n",
      "File \u001b[0;32m<string>:31\u001b[0m, in \u001b[0;36minterpolate_mobject\u001b[0;34m(self, alpha)\u001b[0m\n",
      "\u001b[0;31mTypeError\u001b[0m: Mobject.set_coord() missing 1 required positional argument: 'dim'"
     ]
    }
   ],
   "source": [
    "%%manim -qm -v WARNING QuadraticFunction\n",
    "\n",
    "class Count(Animation):\n",
    "    def __init__(self, number: DecimalNumber, start: float, end: float, **kwargs) -> None:\n",
    "        # Pass number as Mobject to Super\n",
    "        super().__init__(number,  rate_func=smooth, **kwargs)\n",
    "        # Set parameters\n",
    "        self.start = start\n",
    "        self.end = end\n",
    "\n",
    "    def interpolate_mobject(self, alpha) -> None:\n",
    "        # Set value to be incremental using alpha\n",
    "        value = self.start + (alpha * (self.end - self.start))\n",
    "        self.mobject.set_value(value)\n",
    "\n",
    "class TransformDot(Animation):\n",
    "    def __init__(self, dot: Dot, start_graph: [float], end_graph: [float], **kwargs) -> None:\n",
    "        super().__init__(dot, **kwargs)\n",
    "        self.start_graph = start_graph\n",
    "        self.end_graph = end_graph\n",
    "\n",
    "    def interpolate_mobject(self, alpha) -> None:\n",
    "        value_a = self.start_graph[0] + ((self.end_graph[0] - self.start_graph[0])*alpha)\n",
    "        value_b = self.start_graph[1] + ((self.end_graph[1] - self.start_graph[1])*alpha)\n",
    "        value_c = self.start_graph[2] + ((self.end_graph[2] - self.start_graph[2])*alpha)\n",
    "\n",
    "        def get_value_point(a, b, c):\n",
    "            x = - b/(2*a)\n",
    "            y = (a*(x**2))+(b*x) + c\n",
    "            return (x, y, 0)\n",
    "\n",
    "        self.mobject.move_to(get_value_point(value_a, value_b, value_c))\n",
    "        \n",
    "        \n",
    "class QuadraticFunction(Scene):\n",
    "    def construct(self):\n",
    "        # Set background\n",
    "        number_plane = NumberPlane()\n",
    "        border_m_disp = Rectangle(width=3.0, height=2.0).shift(RIGHT*5, UP*2.5).set_fill(BLACK, opacity=1)\n",
    "        # \n",
    "        def get_quad_func(a, b, c):\n",
    "            return FunctionGraph(\n",
    "                lambda x: (a*(x**2))+(b*x) + c\n",
    "            )\n",
    "    \n",
    "        def get_value_point(a, b, c):\n",
    "            x = - b/(2*a)\n",
    "            y = (a*(x**2))+(b*x) + c\n",
    "            return number_plane.c2p(x, y)\n",
    "            \n",
    "        def get_line(b_one, b_two):\n",
    "            points_along_path_b = np.linspace(b_one, b_two, 100)\n",
    "            points_along_path = [get_value_point(1, b, 0) for b in points_along_path_b]\n",
    "            line = VMobject()\n",
    "            line.set_points_smoothly(points_along_path)\n",
    "            return line\n",
    "\n",
    "        \n",
    "        line_qfone_to_qftwo = get_line(3, -3)\n",
    "        qfone = get_quad_func(1, 3, 0)\n",
    "        qftwo = get_quad_func(1, -3, 0)\n",
    "        done = Dot(get_value_point(1, 3, 0))\n",
    "        dtwo = Dot(get_value_point(1, -3, 0))\n",
    "        \n",
    "        fgone = VGroup(qfone, done)\n",
    "        fgtwo = VGroup(qftwo, dtwo)\n",
    "        \n",
    "        number = DecimalNumber(3)\n",
    "        label = MathTex(r\"b = \").next_to(number, LEFT).align_to(number, DOWN)\n",
    "        counter = VGroup(label, number)\n",
    "        counter.next_to(border_m_disp, ORIGIN)\n",
    "        self.add(number_plane, border_m_disp, counter)\n",
    "        self.add(qfone, done)\n",
    "        self.play(Count(number, 3,  -3), Transform(qfone, qftwo), Create(line_qfone_to_qftwo), TransformDot(done, [1, 3, 0], [1, -3, 0], rate_func=smooth, run_time=2), rate_func=smooth, run_time=2)\n",
    "        self.wait()"
   ]
  }
 ],
 "metadata": {
  "kernelspec": {
   "display_name": "Python 3 (ipykernel)",
   "language": "python",
   "name": "python3"
  },
  "language_info": {
   "codemirror_mode": {
    "name": "ipython",
    "version": 3
   },
   "file_extension": ".py",
   "mimetype": "text/x-python",
   "name": "python",
   "nbconvert_exporter": "python",
   "pygments_lexer": "ipython3",
   "version": "3.12.1"
  }
 },
 "nbformat": 4,
 "nbformat_minor": 5
}
