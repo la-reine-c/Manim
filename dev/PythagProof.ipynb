{
 "cells": [
  {
   "cell_type": "code",
   "execution_count": null,
   "id": "391746ce-97dc-42e2-9a28-c7eb7ddf1c9b",
   "metadata": {
    "scrolled": true
   },
   "outputs": [],
   "source": [
    "!sudo apt update\n",
    "!sudo apt install -y libcairo2-dev ffmpeg \\\n",
    "    texlive texlive-latex-extra texlive-fonts-extra \\\n",
    "    texlive-latex-recommended texlive-science \\\n",
    "    tipa libpango1.0-dev\n",
    "!pip install manim\n",
    "!pip install IPython==8.21.0\n"
   ]
  },
  {
   "cell_type": "code",
   "execution_count": 1,
   "id": "87c797e1-433c-47a1-8d84-180b46dce89d",
   "metadata": {},
   "outputs": [],
   "source": [
    "from manim import *"
   ]
  },
  {
   "cell_type": "code",
   "execution_count": 2,
   "id": "543cce9c-db33-4e19-9d9b-35861a93a92e",
   "metadata": {},
   "outputs": [
    {
     "data": {
      "text/html": [
       "<pre style=\"white-space:pre;overflow-x:auto;line-height:normal;font-family:Menlo,'DejaVu Sans Mono',consolas,'Courier New',monospace\">Manim Community <span style=\"color: #008000; text-decoration-color: #008000\">v0.18.1</span>\n",
       "\n",
       "</pre>\n"
      ],
      "text/plain": [
       "Manim Community \u001b[32mv0.\u001b[0m\u001b[32m18.1\u001b[0m\n",
       "\n"
      ]
     },
     "metadata": {},
     "output_type": "display_data"
    },
    {
     "name": "stderr",
     "output_type": "stream",
     "text": [
      "                                                                                                                  "
     ]
    },
    {
     "data": {
      "text/html": [
       "<video src=\"media/jupyter/PythagProof@2024-12-25@01-30-49.mp4\" controls autoplay loop style=\"max-width: 60%;\"  >\n",
       "      Your browser does not support the <code>video</code> element.\n",
       "    </video>"
      ],
      "text/plain": [
       "<IPython.core.display.Video object>"
      ]
     },
     "metadata": {},
     "output_type": "display_data"
    }
   ],
   "source": [
    "\n",
    "%%manim -v WARNING PythagProof\n",
    "\n",
    "config.frame_size = (720, 1280)\n",
    "config.frame_width = 18\n",
    "\n",
    "class PythagProof(Scene): \n",
    "    def intro(self):\n",
    "        intro_text = Tex(\"A simple proof of Pythagoras' Theorem\", font_size=84)\n",
    "        self.play(Write(intro_text))\n",
    "        self.wait()\n",
    "        self.play(intro_text.animate.shift(UP*12))\n",
    "    def proof(self):\n",
    "        triangles = [\n",
    "            Polygon(\n",
    "                [-2, -1.5, 0], [2, -1.5, 0], [2, 1.5, 0]    \n",
    "            ).shift(DOWN*17.5).set_stroke(RED).set_fill(RED, opacity=0.5),\n",
    "            Polygon(\n",
    "                [-2, -1.5, 0], [2, -1.5, 0], [2, 1.5, 0]    \n",
    "            ).set_stroke(RED).set_fill(RED, opacity=0.5),\n",
    "            Polygon(\n",
    "                [-2, -1.5, 0], [2, -1.5, 0], [2, 1.5, 0]    \n",
    "            ).shift(DOWN*17.5).set_stroke(RED).set_fill(RED, opacity=0.5),\n",
    "            Polygon(\n",
    "                [-2, -1.5, 0], [2, -1.5, 0], [2, 1.5, 0]    \n",
    "            ).shift(DOWN*17.5).set_stroke(RED).set_fill(RED, opacity=0.5)\n",
    "        ]\n",
    "\n",
    "        squares = [\n",
    "            Polygon(\n",
    "                [-2, -1.5, 0], [2, -1.5, 0], [2, -5.5, 0], [-2, -5.5, 0]\n",
    "            ).set_stroke(BLUE).set_fill(BLUE, opacity=0.5),\n",
    "            Polygon(\n",
    "                [2, -1.5, 0], [2, 1.5, 0], [5, 1.5, 0], [5, -1.5, 0]\n",
    "            ).set_stroke(BLUE).set_fill(BLUE, opacity=0.5),\n",
    "            Polygon(\n",
    "                [-2, -1.5, 0], [2, 1.5, 0], [-1, 5.5, 0], [-5, 2.5, 0]\n",
    "            ).set_stroke(BLUE).set_fill(BLUE, opacity=0.5)\n",
    "        ]\n",
    "        \n",
    "        self.add(triangles[0])\n",
    "        self.play(triangles[0].animate.shift(UP*17.5))\n",
    "        self.play(Create(squares[0]))\n",
    "        self.play(Create(squares[1]))\n",
    "        self.wait()\n",
    "    def construct(self):\n",
    "        self.intro()\n",
    "        self.proof()\n"
   ]
  },
  {
   "cell_type": "code",
   "execution_count": null,
   "id": "33268713-15a8-48ae-ba1b-8bd6ad00b441",
   "metadata": {},
   "outputs": [],
   "source": []
  }
 ],
 "metadata": {
  "kernelspec": {
   "display_name": "Python 3 (ipykernel)",
   "language": "python",
   "name": "python3"
  },
  "language_info": {
   "codemirror_mode": {
    "name": "ipython",
    "version": 3
   },
   "file_extension": ".py",
   "mimetype": "text/x-python",
   "name": "python",
   "nbconvert_exporter": "python",
   "pygments_lexer": "ipython3",
   "version": "3.12.1"
  }
 },
 "nbformat": 4,
 "nbformat_minor": 5
}
