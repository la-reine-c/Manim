{
 "cells": [
  {
   "cell_type": "code",
   "execution_count": 4,
   "id": "391746ce-97dc-42e2-9a28-c7eb7ddf1c9b",
   "metadata": {
    "scrolled": true
   },
   "outputs": [
    {
     "name": "stdout",
     "output_type": "stream",
     "text": [
      "Hit:1 http://archive.ubuntu.com/ubuntu focal InRelease\n",
      "Get:2 http://archive.ubuntu.com/ubuntu focal-updates InRelease [128 kB]        \u001b[0m\n",
      "Get:3 http://archive.ubuntu.com/ubuntu focal-backports InRelease [128 kB]      \u001b[0m\u001b[33m\n",
      "Hit:4 https://packages.microsoft.com/repos/microsoft-ubuntu-focal-prod focal InRelease3m\n",
      "Hit:5 https://dl.yarnpkg.com/debian stable InRelease                           \u001b[0m\n",
      "Get:6 http://security.ubuntu.com/ubuntu focal-security InRelease [128 kB]      \n",
      "Hit:7 https://repo.anaconda.com/pkgs/misc/debrepo/conda stable InRelease\n",
      "Hit:8 https://packagecloud.io/github/git-lfs/ubuntu focal InRelease            \u001b[0m\n",
      "Fetched 383 kB in 1s (332 kB/s)\n",
      "Reading package lists... Done\n",
      "Building dependency tree       \n",
      "Reading state information... Done\n",
      "14 packages can be upgraded. Run 'apt list --upgradable' to see them.\n",
      "Reading package lists... Done\n",
      "Building dependency tree       \n",
      "Reading state information... Done\n",
      "libcairo2-dev is already the newest version (1.16.0-4ubuntu1).\n",
      "libpango1.0-dev is already the newest version (1.44.7-2ubuntu4).\n",
      "texlive is already the newest version (2019.20200218-1).\n",
      "texlive-fonts-extra is already the newest version (2019.202000218-1).\n",
      "texlive-latex-extra is already the newest version (2019.202000218-1).\n",
      "texlive-latex-recommended is already the newest version (2019.20200218-1).\n",
      "texlive-science is already the newest version (2019.202000218-1).\n",
      "tipa is already the newest version (2:1.3-20).\n",
      "ffmpeg is already the newest version (7:4.2.7-0ubuntu0.1).\n",
      "0 upgraded, 0 newly installed, 0 to remove and 14 not upgraded.\n",
      "Requirement already satisfied: manim in /usr/local/python/3.12.1/lib/python3.12/site-packages (0.18.1)\n",
      "Requirement already satisfied: Pillow>=9.1 in /home/codespace/.local/lib/python3.12/site-packages (from manim) (11.0.0)\n",
      "Requirement already satisfied: Pygments>=2.0.0 in /home/codespace/.local/lib/python3.12/site-packages (from manim) (2.18.0)\n",
      "Requirement already satisfied: click>=8.0 in /usr/local/python/3.12.1/lib/python3.12/site-packages (from manim) (8.1.8)\n",
      "Requirement already satisfied: cloup>=2.0.0 in /usr/local/python/3.12.1/lib/python3.12/site-packages (from manim) (3.0.5)\n",
      "Requirement already satisfied: decorator>=4.3.2 in /home/codespace/.local/lib/python3.12/site-packages (from manim) (5.1.1)\n",
      "Requirement already satisfied: isosurfaces>=0.1.0 in /usr/local/python/3.12.1/lib/python3.12/site-packages (from manim) (0.1.2)\n",
      "Requirement already satisfied: manimpango<1.0.0,>=0.5.0 in /usr/local/python/3.12.1/lib/python3.12/site-packages (from manim) (0.6.0)\n",
      "Requirement already satisfied: mapbox-earcut>=1.0.0 in /usr/local/python/3.12.1/lib/python3.12/site-packages (from manim) (1.0.2)\n",
      "Requirement already satisfied: moderngl<6.0.0,>=5.0.0 in /usr/local/python/3.12.1/lib/python3.12/site-packages (from manim) (5.12.0)\n",
      "Requirement already satisfied: moderngl-window>=2.0.0 in /usr/local/python/3.12.1/lib/python3.12/site-packages (from manim) (3.0.3)\n",
      "Requirement already satisfied: networkx>=2.6 in /home/codespace/.local/lib/python3.12/site-packages (from manim) (3.2.1)\n",
      "Requirement already satisfied: numpy>=1.26 in /home/codespace/.local/lib/python3.12/site-packages (from manim) (2.2.0)\n",
      "Requirement already satisfied: pycairo<2.0.0,>=1.13 in /usr/local/python/3.12.1/lib/python3.12/site-packages (from manim) (1.27.0)\n",
      "Requirement already satisfied: pydub>=0.20.0 in /usr/local/python/3.12.1/lib/python3.12/site-packages (from manim) (0.25.1)\n",
      "Requirement already satisfied: rich>=12.0.0 in /usr/local/python/3.12.1/lib/python3.12/site-packages (from manim) (13.9.4)\n",
      "Requirement already satisfied: scipy>=1.6.0 in /home/codespace/.local/lib/python3.12/site-packages (from manim) (1.14.1)\n",
      "Requirement already satisfied: screeninfo>=0.7 in /usr/local/python/3.12.1/lib/python3.12/site-packages (from manim) (0.8.1)\n",
      "Requirement already satisfied: skia-pathops>=0.7.0 in /usr/local/python/3.12.1/lib/python3.12/site-packages (from manim) (0.8.0.post2)\n",
      "Requirement already satisfied: srt>=3.0.0 in /usr/local/python/3.12.1/lib/python3.12/site-packages (from manim) (3.5.3)\n",
      "Requirement already satisfied: svgelements>=1.8.0 in /usr/local/python/3.12.1/lib/python3.12/site-packages (from manim) (1.9.6)\n",
      "Requirement already satisfied: tqdm>=4.0.0 in /usr/local/python/3.12.1/lib/python3.12/site-packages (from manim) (4.67.1)\n",
      "Requirement already satisfied: typing-extensions>=4.0.0 in /home/codespace/.local/lib/python3.12/site-packages (from manim) (4.12.2)\n",
      "Requirement already satisfied: watchdog>=2.0.0 in /usr/local/python/3.12.1/lib/python3.12/site-packages (from manim) (6.0.0)\n",
      "Requirement already satisfied: glcontext>=3.0.0 in /usr/local/python/3.12.1/lib/python3.12/site-packages (from moderngl<6.0.0,>=5.0.0->manim) (3.0.0)\n",
      "Requirement already satisfied: pyglet>=2.0.0 in /usr/local/python/3.12.1/lib/python3.12/site-packages (from moderngl-window>=2.0.0->manim) (2.0.20)\n",
      "Requirement already satisfied: pyglm<3,>=2.7.0 in /usr/local/python/3.12.1/lib/python3.12/site-packages (from moderngl-window>=2.0.0->manim) (2.7.3)\n",
      "Requirement already satisfied: markdown-it-py>=2.2.0 in /usr/local/python/3.12.1/lib/python3.12/site-packages (from rich>=12.0.0->manim) (3.0.0)\n",
      "Requirement already satisfied: mdurl~=0.1 in /usr/local/python/3.12.1/lib/python3.12/site-packages (from markdown-it-py>=2.2.0->rich>=12.0.0->manim) (0.1.2)\n",
      "Requirement already satisfied: IPython==8.21.0 in /usr/local/python/3.12.1/lib/python3.12/site-packages (8.21.0)\n",
      "Requirement already satisfied: decorator in /home/codespace/.local/lib/python3.12/site-packages (from IPython==8.21.0) (5.1.1)\n",
      "Requirement already satisfied: jedi>=0.16 in /home/codespace/.local/lib/python3.12/site-packages (from IPython==8.21.0) (0.19.2)\n",
      "Requirement already satisfied: matplotlib-inline in /home/codespace/.local/lib/python3.12/site-packages (from IPython==8.21.0) (0.1.7)\n",
      "Requirement already satisfied: prompt-toolkit<3.1.0,>=3.0.41 in /home/codespace/.local/lib/python3.12/site-packages (from IPython==8.21.0) (3.0.48)\n",
      "Requirement already satisfied: pygments>=2.4.0 in /home/codespace/.local/lib/python3.12/site-packages (from IPython==8.21.0) (2.18.0)\n",
      "Requirement already satisfied: stack-data in /home/codespace/.local/lib/python3.12/site-packages (from IPython==8.21.0) (0.6.3)\n",
      "Requirement already satisfied: traitlets>=5 in /home/codespace/.local/lib/python3.12/site-packages (from IPython==8.21.0) (5.14.3)\n",
      "Requirement already satisfied: pexpect>4.3 in /home/codespace/.local/lib/python3.12/site-packages (from IPython==8.21.0) (4.9.0)\n",
      "Requirement already satisfied: parso<0.9.0,>=0.8.4 in /home/codespace/.local/lib/python3.12/site-packages (from jedi>=0.16->IPython==8.21.0) (0.8.4)\n",
      "Requirement already satisfied: ptyprocess>=0.5 in /home/codespace/.local/lib/python3.12/site-packages (from pexpect>4.3->IPython==8.21.0) (0.7.0)\n",
      "Requirement already satisfied: wcwidth in /home/codespace/.local/lib/python3.12/site-packages (from prompt-toolkit<3.1.0,>=3.0.41->IPython==8.21.0) (0.2.13)\n",
      "Requirement already satisfied: executing>=1.2.0 in /home/codespace/.local/lib/python3.12/site-packages (from stack-data->IPython==8.21.0) (2.1.0)\n",
      "Requirement already satisfied: asttokens>=2.1.0 in /home/codespace/.local/lib/python3.12/site-packages (from stack-data->IPython==8.21.0) (3.0.0)\n",
      "Requirement already satisfied: pure-eval in /home/codespace/.local/lib/python3.12/site-packages (from stack-data->IPython==8.21.0) (0.2.3)\n"
     ]
    }
   ],
   "source": [
    "!sudo apt update\n",
    "!sudo apt install -y libcairo2-dev ffmpeg \\\n",
    "    texlive texlive-latex-extra texlive-fonts-extra \\\n",
    "    texlive-latex-recommended texlive-science \\\n",
    "    tipa libpango1.0-dev\n",
    "!pip install manim\n",
    "!pip install IPython==8.21.0\n"
   ]
  },
  {
   "cell_type": "code",
   "execution_count": 7,
   "id": "87c797e1-433c-47a1-8d84-180b46dce89d",
   "metadata": {},
   "outputs": [],
   "source": [
    "from manim import *"
   ]
  },
  {
   "cell_type": "code",
   "execution_count": 10,
   "id": "543cce9c-db33-4e19-9d9b-35861a93a92e",
   "metadata": {},
   "outputs": [
    {
     "data": {
      "text/html": [
       "<pre style=\"white-space:pre;overflow-x:auto;line-height:normal;font-family:Menlo,'DejaVu Sans Mono',consolas,'Courier New',monospace\">Manim Community <span style=\"color: #008000; text-decoration-color: #008000\">v0.18.1</span>\n",
       "\n",
       "</pre>\n"
      ],
      "text/plain": [
       "Manim Community \u001b[32mv0.\u001b[0m\u001b[32m18.1\u001b[0m\n",
       "\n"
      ]
     },
     "metadata": {},
     "output_type": "display_data"
    },
    {
     "name": "stderr",
     "output_type": "stream",
     "text": [
      "                                                                                                                  "
     ]
    },
    {
     "data": {
      "text/html": [
       "<video src=\"media/jupyter/PythagProof@2024-12-24@19-30-01.mp4\" controls autoplay loop style=\"max-width: 60%;\"  >\n",
       "      Your browser does not support the <code>video</code> element.\n",
       "    </video>"
      ],
      "text/plain": [
       "<IPython.core.display.Video object>"
      ]
     },
     "metadata": {},
     "output_type": "display_data"
    }
   ],
   "source": [
    "\n",
    "%%manim -v WARNING PythagProof\n",
    "\n",
    "config.frame_size = (720, 1280)\n",
    "config.frame_width = 18\n",
    "\n",
    "class PythagProof(Scene):\n",
    "    def intro(self):\n",
    "        intro_text = Tex(\"A simple proof of Pythagoras' Theorem\", font_size=84)\n",
    "        self.play(Write(intro_text))\n",
    "        self.wait()\n",
    "        self.play(intro_text.animate.shift(UP*12))\n",
    "    def proof(self):\n",
    "        triangles = [\n",
    "            Polygon(\n",
    "                [-2, -1.5, 0], [2, -1.5, 0], [2, 1.5, 0]    \n",
    "            ).shift(DOWN*17.5).set_stroke(RED).set_fill(RED, opacity=0.5),\n",
    "            Polygon(\n",
    "                [-2, -1.5, 0], [2, -1.5, 0], [2, 1.5, 0]    \n",
    "            ).set_stroke(RED).set_fill(RED, opacity=0.5),\n",
    "            Polygon(\n",
    "                [-2, -1.5, 0], [2, -1.5, 0], [2, 1.5, 0]    \n",
    "            ),\n",
    "            Polygon(\n",
    "                [-2, -1.5, 0], [2, -1.5, 0], [2, 1.5, 0]    \n",
    "            )\n",
    "        ]\n",
    "\n",
    "        squares = [\n",
    "            Polygon(\n",
    "                [-2, -1.5, 0], [2, -1.5, 0], [2, -5.5, 0], [-2, -5.5, 0]\n",
    "            ),\n",
    "            Polygon(\n",
    "                [2, -1.5, 0], [2, 1.5, 0], [5, 1.5, 0], [5, -1.5, 0]\n",
    "            ),\n",
    "            Polygon(\n",
    "                [-2, -1.5, 0], [2, 1.5, 0], [-1, 5.5, 0], [-5, 2.5, 0]\n",
    "            )\n",
    "        ]\n",
    "        \n",
    "        self.add(triangles[0])\n",
    "        self.play(triangles[0].animate.shift(UP*17.5))\n",
    "        self.play(Create(squares[0]))\n",
    "        self.play(Create(squares[1]))\n",
    "        self.play(Create(squares[2]))\n",
    "        self.wait()\n",
    "    def construct(self):\n",
    "        self.intro()\n",
    "        self.proof()\n"
   ]
  },
  {
   "cell_type": "code",
   "execution_count": null,
   "id": "33268713-15a8-48ae-ba1b-8bd6ad00b441",
   "metadata": {},
   "outputs": [],
   "source": []
  }
 ],
 "metadata": {
  "kernelspec": {
   "display_name": "Python 3 (ipykernel)",
   "language": "python",
   "name": "python3"
  },
  "language_info": {
   "codemirror_mode": {
    "name": "ipython",
    "version": 3
   },
   "file_extension": ".py",
   "mimetype": "text/x-python",
   "name": "python",
   "nbconvert_exporter": "python",
   "pygments_lexer": "ipython3",
   "version": "3.12.1"
  }
 },
 "nbformat": 4,
 "nbformat_minor": 5
}
